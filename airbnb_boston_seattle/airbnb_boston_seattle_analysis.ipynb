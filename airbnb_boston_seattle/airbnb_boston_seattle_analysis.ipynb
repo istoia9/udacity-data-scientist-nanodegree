{
 "cells": [
  {
   "cell_type": "markdown",
   "metadata": {},
   "source": [
    "# Project Instructions:\n",
    "1. Pick a dataset.\n",
    "2. Pose at least three questions related to business or real-world applications of how the data could be used.\n",
    "3. Create a Jupyter Notebook, using any associated packages you'd like, to:\n",
    "    - Prepare data:\n",
    "        - Gather necessary data to answer your questions\n",
    "        - Handle categorical and missing data\n",
    "        - Provide insight into the methods you chose and why you chose them\n",
    "    - Analyze, Model, and Visualize\n",
    "        - Provide a clear connection between your business questions and how the data answers them.\n",
    "4. Communicate your business insights:\n",
    "    - Create a Github repository to share your code and data wrangling/modeling techniques, with a technical audience in mind\n",
    "    - Create a blog post to share your questions and insights with a non-technical audience\n",
    "\n",
    "Your deliverables will be a Github repo and a blog post."
   ]
  },
  {
   "cell_type": "markdown",
   "metadata": {},
   "source": [
    "# 0. Importing libs and functions"
   ]
  },
  {
   "cell_type": "code",
   "execution_count": 1,
   "metadata": {},
   "outputs": [],
   "source": [
    "import pandas as pd\n",
    "import numpy as np\n",
    "\n",
    "import matplotlib.pyplot as plt\n",
    "import seaborn as sns"
   ]
  },
  {
   "cell_type": "markdown",
   "metadata": {},
   "source": [
    "# 1. Importing datasets\n",
    "- the datasets were individually downloaded from https://www.kaggle.com/airbnb/seattle/data and https://www.kaggle.com/airbnb/boston\n",
    "- the zip files were extracted to respective folders"
   ]
  },
  {
   "cell_type": "markdown",
   "metadata": {},
   "source": [
    "#### 1.1. Importing calendar datasets:"
   ]
  },
  {
   "cell_type": "code",
   "execution_count": 2,
   "metadata": {},
   "outputs": [],
   "source": [
    "boston_calendar = pd.read_csv('boston/calendar.csv')\\\n",
    "                    .assign(city = 'boston')\n",
    "\n",
    "seattle_calendar = pd.read_csv('seattle/calendar.csv')\\\n",
    "                    .assign(city = 'seattle')\n",
    "\n",
    "calendar = pd.concat([boston_calendar, seattle_calendar], axis = 0)"
   ]
  },
  {
   "cell_type": "markdown",
   "metadata": {},
   "source": [
    "#### 1.2. Importing listings datasets:"
   ]
  },
  {
   "cell_type": "code",
   "execution_count": 3,
   "metadata": {},
   "outputs": [],
   "source": [
    "boston_listings = pd.read_csv('boston/listings.csv')\\\n",
    "                    .assign(city = 'boston')\n",
    "\n",
    "seattle_listings = pd.read_csv('seattle/listings.csv')\\\n",
    "                    .assign(city = 'seattle')\n",
    "\n",
    "listings = pd.concat([boston_listings, seattle_listings], axis = 0)"
   ]
  },
  {
   "cell_type": "markdown",
   "metadata": {},
   "source": [
    "#### 1.3. Importing reviews datasets:"
   ]
  },
  {
   "cell_type": "code",
   "execution_count": 4,
   "metadata": {},
   "outputs": [],
   "source": [
    "boston_reviews = pd.read_csv('boston/reviews.csv')\\\n",
    "                    .assign(city = 'boston')\n",
    "\n",
    "seattle_reviews = pd.read_csv('seattle/reviews.csv')\\\n",
    "                    .assign(city = 'seattle')\n",
    "\n",
    "reviews = pd.concat([boston_reviews, seattle_reviews], axis = 0)"
   ]
  },
  {
   "cell_type": "markdown",
   "metadata": {},
   "source": [
    "# 2. Checking datasets and posing questions:"
   ]
  },
  {
   "cell_type": "markdown",
   "metadata": {},
   "source": [
    "#### 2.1. Checking `calendar` dataset:"
   ]
  },
  {
   "cell_type": "code",
   "execution_count": 5,
   "metadata": {},
   "outputs": [
    {
     "data": {
      "text/html": [
       "<div>\n",
       "<style scoped>\n",
       "    .dataframe tbody tr th:only-of-type {\n",
       "        vertical-align: middle;\n",
       "    }\n",
       "\n",
       "    .dataframe tbody tr th {\n",
       "        vertical-align: top;\n",
       "    }\n",
       "\n",
       "    .dataframe thead th {\n",
       "        text-align: right;\n",
       "    }\n",
       "</style>\n",
       "<table border=\"1\" class=\"dataframe\">\n",
       "  <thead>\n",
       "    <tr style=\"text-align: right;\">\n",
       "      <th></th>\n",
       "      <th>listing_id</th>\n",
       "      <th>date</th>\n",
       "      <th>available</th>\n",
       "      <th>price</th>\n",
       "      <th>city</th>\n",
       "    </tr>\n",
       "  </thead>\n",
       "  <tbody>\n",
       "    <tr>\n",
       "      <th>0</th>\n",
       "      <td>12147973</td>\n",
       "      <td>2017-09-05</td>\n",
       "      <td>f</td>\n",
       "      <td>NaN</td>\n",
       "      <td>boston</td>\n",
       "    </tr>\n",
       "    <tr>\n",
       "      <th>1</th>\n",
       "      <td>12147973</td>\n",
       "      <td>2017-09-04</td>\n",
       "      <td>f</td>\n",
       "      <td>NaN</td>\n",
       "      <td>boston</td>\n",
       "    </tr>\n",
       "    <tr>\n",
       "      <th>2</th>\n",
       "      <td>12147973</td>\n",
       "      <td>2017-09-03</td>\n",
       "      <td>f</td>\n",
       "      <td>NaN</td>\n",
       "      <td>boston</td>\n",
       "    </tr>\n",
       "    <tr>\n",
       "      <th>3</th>\n",
       "      <td>12147973</td>\n",
       "      <td>2017-09-02</td>\n",
       "      <td>f</td>\n",
       "      <td>NaN</td>\n",
       "      <td>boston</td>\n",
       "    </tr>\n",
       "    <tr>\n",
       "      <th>4</th>\n",
       "      <td>12147973</td>\n",
       "      <td>2017-09-01</td>\n",
       "      <td>f</td>\n",
       "      <td>NaN</td>\n",
       "      <td>boston</td>\n",
       "    </tr>\n",
       "  </tbody>\n",
       "</table>\n",
       "</div>"
      ],
      "text/plain": [
       "   listing_id        date available price    city\n",
       "0    12147973  2017-09-05         f   NaN  boston\n",
       "1    12147973  2017-09-04         f   NaN  boston\n",
       "2    12147973  2017-09-03         f   NaN  boston\n",
       "3    12147973  2017-09-02         f   NaN  boston\n",
       "4    12147973  2017-09-01         f   NaN  boston"
      ]
     },
     "execution_count": 5,
     "metadata": {},
     "output_type": "execute_result"
    }
   ],
   "source": [
    "calendar.head()\n",
    "\n",
    "# the dataset presents data about the availability of listings in historical dates"
   ]
  },
  {
   "cell_type": "markdown",
   "metadata": {},
   "source": [
    "#### 2.2. Checking `listings` dataset:"
   ]
  },
  {
   "cell_type": "code",
   "execution_count": 6,
   "metadata": {},
   "outputs": [
    {
     "data": {
      "text/html": [
       "<div>\n",
       "<style scoped>\n",
       "    .dataframe tbody tr th:only-of-type {\n",
       "        vertical-align: middle;\n",
       "    }\n",
       "\n",
       "    .dataframe tbody tr th {\n",
       "        vertical-align: top;\n",
       "    }\n",
       "\n",
       "    .dataframe thead th {\n",
       "        text-align: right;\n",
       "    }\n",
       "</style>\n",
       "<table border=\"1\" class=\"dataframe\">\n",
       "  <thead>\n",
       "    <tr style=\"text-align: right;\">\n",
       "      <th></th>\n",
       "      <th>id</th>\n",
       "      <th>listing_url</th>\n",
       "      <th>scrape_id</th>\n",
       "      <th>last_scraped</th>\n",
       "      <th>name</th>\n",
       "      <th>summary</th>\n",
       "      <th>space</th>\n",
       "      <th>description</th>\n",
       "      <th>experiences_offered</th>\n",
       "      <th>neighborhood_overview</th>\n",
       "      <th>notes</th>\n",
       "      <th>transit</th>\n",
       "      <th>access</th>\n",
       "      <th>interaction</th>\n",
       "      <th>house_rules</th>\n",
       "      <th>thumbnail_url</th>\n",
       "      <th>medium_url</th>\n",
       "      <th>picture_url</th>\n",
       "      <th>xl_picture_url</th>\n",
       "      <th>host_id</th>\n",
       "      <th>host_url</th>\n",
       "      <th>host_name</th>\n",
       "      <th>host_since</th>\n",
       "      <th>host_location</th>\n",
       "      <th>host_about</th>\n",
       "      <th>host_response_time</th>\n",
       "      <th>host_response_rate</th>\n",
       "      <th>host_acceptance_rate</th>\n",
       "      <th>host_is_superhost</th>\n",
       "      <th>host_thumbnail_url</th>\n",
       "      <th>host_picture_url</th>\n",
       "      <th>host_neighbourhood</th>\n",
       "      <th>host_listings_count</th>\n",
       "      <th>host_total_listings_count</th>\n",
       "      <th>host_verifications</th>\n",
       "      <th>host_has_profile_pic</th>\n",
       "      <th>host_identity_verified</th>\n",
       "      <th>street</th>\n",
       "      <th>neighbourhood</th>\n",
       "      <th>neighbourhood_cleansed</th>\n",
       "      <th>neighbourhood_group_cleansed</th>\n",
       "      <th>city</th>\n",
       "      <th>state</th>\n",
       "      <th>zipcode</th>\n",
       "      <th>market</th>\n",
       "      <th>smart_location</th>\n",
       "      <th>country_code</th>\n",
       "      <th>country</th>\n",
       "      <th>latitude</th>\n",
       "      <th>longitude</th>\n",
       "      <th>is_location_exact</th>\n",
       "      <th>property_type</th>\n",
       "      <th>room_type</th>\n",
       "      <th>accommodates</th>\n",
       "      <th>bathrooms</th>\n",
       "      <th>bedrooms</th>\n",
       "      <th>beds</th>\n",
       "      <th>bed_type</th>\n",
       "      <th>amenities</th>\n",
       "      <th>square_feet</th>\n",
       "      <th>price</th>\n",
       "      <th>weekly_price</th>\n",
       "      <th>monthly_price</th>\n",
       "      <th>security_deposit</th>\n",
       "      <th>cleaning_fee</th>\n",
       "      <th>guests_included</th>\n",
       "      <th>extra_people</th>\n",
       "      <th>minimum_nights</th>\n",
       "      <th>maximum_nights</th>\n",
       "      <th>calendar_updated</th>\n",
       "      <th>has_availability</th>\n",
       "      <th>availability_30</th>\n",
       "      <th>availability_60</th>\n",
       "      <th>availability_90</th>\n",
       "      <th>availability_365</th>\n",
       "      <th>calendar_last_scraped</th>\n",
       "      <th>number_of_reviews</th>\n",
       "      <th>first_review</th>\n",
       "      <th>last_review</th>\n",
       "      <th>review_scores_rating</th>\n",
       "      <th>review_scores_accuracy</th>\n",
       "      <th>review_scores_cleanliness</th>\n",
       "      <th>review_scores_checkin</th>\n",
       "      <th>review_scores_communication</th>\n",
       "      <th>review_scores_location</th>\n",
       "      <th>review_scores_value</th>\n",
       "      <th>requires_license</th>\n",
       "      <th>license</th>\n",
       "      <th>jurisdiction_names</th>\n",
       "      <th>instant_bookable</th>\n",
       "      <th>cancellation_policy</th>\n",
       "      <th>require_guest_profile_picture</th>\n",
       "      <th>require_guest_phone_verification</th>\n",
       "      <th>calculated_host_listings_count</th>\n",
       "      <th>reviews_per_month</th>\n",
       "    </tr>\n",
       "  </thead>\n",
       "  <tbody>\n",
       "    <tr>\n",
       "      <th>0</th>\n",
       "      <td>12147973</td>\n",
       "      <td>https://www.airbnb.com/rooms/12147973</td>\n",
       "      <td>20160906204935</td>\n",
       "      <td>2016-09-07</td>\n",
       "      <td>Sunny Bungalow in the City</td>\n",
       "      <td>Cozy, sunny, family home.  Master bedroom high...</td>\n",
       "      <td>The house has an open and cozy feel at the sam...</td>\n",
       "      <td>Cozy, sunny, family home.  Master bedroom high...</td>\n",
       "      <td>none</td>\n",
       "      <td>Roslindale is quiet, convenient and friendly. ...</td>\n",
       "      <td>NaN</td>\n",
       "      <td>The bus stop is 2 blocks away, and frequent. B...</td>\n",
       "      <td>You will have access to 2 bedrooms, a living r...</td>\n",
       "      <td>NaN</td>\n",
       "      <td>Clean up and treat the home the way you'd like...</td>\n",
       "      <td>https://a2.muscache.com/im/pictures/c0842db1-e...</td>\n",
       "      <td>https://a2.muscache.com/im/pictures/c0842db1-e...</td>\n",
       "      <td>https://a2.muscache.com/im/pictures/c0842db1-e...</td>\n",
       "      <td>https://a2.muscache.com/im/pictures/c0842db1-e...</td>\n",
       "      <td>31303940</td>\n",
       "      <td>https://www.airbnb.com/users/show/31303940</td>\n",
       "      <td>Virginia</td>\n",
       "      <td>2015-04-15</td>\n",
       "      <td>Boston, Massachusetts, United States</td>\n",
       "      <td>We are country and city connecting in our deck...</td>\n",
       "      <td>NaN</td>\n",
       "      <td>NaN</td>\n",
       "      <td>NaN</td>\n",
       "      <td>f</td>\n",
       "      <td>https://a2.muscache.com/im/pictures/5936fef0-b...</td>\n",
       "      <td>https://a2.muscache.com/im/pictures/5936fef0-b...</td>\n",
       "      <td>Roslindale</td>\n",
       "      <td>1.0</td>\n",
       "      <td>1.0</td>\n",
       "      <td>['email', 'phone', 'facebook', 'reviews']</td>\n",
       "      <td>t</td>\n",
       "      <td>f</td>\n",
       "      <td>Birch Street, Boston, MA 02131, United States</td>\n",
       "      <td>Roslindale</td>\n",
       "      <td>Roslindale</td>\n",
       "      <td>NaN</td>\n",
       "      <td>boston</td>\n",
       "      <td>MA</td>\n",
       "      <td>02131</td>\n",
       "      <td>Boston</td>\n",
       "      <td>Boston, MA</td>\n",
       "      <td>US</td>\n",
       "      <td>United States</td>\n",
       "      <td>42.282619</td>\n",
       "      <td>-71.133068</td>\n",
       "      <td>t</td>\n",
       "      <td>House</td>\n",
       "      <td>Entire home/apt</td>\n",
       "      <td>4</td>\n",
       "      <td>1.5</td>\n",
       "      <td>2.0</td>\n",
       "      <td>3.0</td>\n",
       "      <td>Real Bed</td>\n",
       "      <td>{TV,\"Wireless Internet\",Kitchen,\"Free Parking ...</td>\n",
       "      <td>NaN</td>\n",
       "      <td>$250.00</td>\n",
       "      <td>NaN</td>\n",
       "      <td>NaN</td>\n",
       "      <td>NaN</td>\n",
       "      <td>$35.00</td>\n",
       "      <td>1</td>\n",
       "      <td>$0.00</td>\n",
       "      <td>2</td>\n",
       "      <td>1125</td>\n",
       "      <td>2 weeks ago</td>\n",
       "      <td>NaN</td>\n",
       "      <td>0</td>\n",
       "      <td>0</td>\n",
       "      <td>0</td>\n",
       "      <td>0</td>\n",
       "      <td>2016-09-06</td>\n",
       "      <td>0</td>\n",
       "      <td>NaN</td>\n",
       "      <td>NaN</td>\n",
       "      <td>NaN</td>\n",
       "      <td>NaN</td>\n",
       "      <td>NaN</td>\n",
       "      <td>NaN</td>\n",
       "      <td>NaN</td>\n",
       "      <td>NaN</td>\n",
       "      <td>NaN</td>\n",
       "      <td>f</td>\n",
       "      <td>NaN</td>\n",
       "      <td>NaN</td>\n",
       "      <td>f</td>\n",
       "      <td>moderate</td>\n",
       "      <td>f</td>\n",
       "      <td>f</td>\n",
       "      <td>1</td>\n",
       "      <td>NaN</td>\n",
       "    </tr>\n",
       "    <tr>\n",
       "      <th>1</th>\n",
       "      <td>3075044</td>\n",
       "      <td>https://www.airbnb.com/rooms/3075044</td>\n",
       "      <td>20160906204935</td>\n",
       "      <td>2016-09-07</td>\n",
       "      <td>Charming room in pet friendly apt</td>\n",
       "      <td>Charming and quiet room in a second floor 1910...</td>\n",
       "      <td>Small but cozy and quite room with a full size...</td>\n",
       "      <td>Charming and quiet room in a second floor 1910...</td>\n",
       "      <td>none</td>\n",
       "      <td>The room is in Roslindale, a diverse and prima...</td>\n",
       "      <td>If you don't have a US cell phone, you can tex...</td>\n",
       "      <td>Plenty of safe street parking. Bus stops a few...</td>\n",
       "      <td>Apt has one more bedroom (which I use) and lar...</td>\n",
       "      <td>If I am at home, I am likely working in my hom...</td>\n",
       "      <td>Pet friendly but please confirm with me if the...</td>\n",
       "      <td>https://a1.muscache.com/im/pictures/39327812/d...</td>\n",
       "      <td>https://a1.muscache.com/im/pictures/39327812/d...</td>\n",
       "      <td>https://a1.muscache.com/im/pictures/39327812/d...</td>\n",
       "      <td>https://a1.muscache.com/im/pictures/39327812/d...</td>\n",
       "      <td>2572247</td>\n",
       "      <td>https://www.airbnb.com/users/show/2572247</td>\n",
       "      <td>Andrea</td>\n",
       "      <td>2012-06-07</td>\n",
       "      <td>Boston, Massachusetts, United States</td>\n",
       "      <td>I live in Boston and I like to travel and have...</td>\n",
       "      <td>within an hour</td>\n",
       "      <td>100%</td>\n",
       "      <td>100%</td>\n",
       "      <td>f</td>\n",
       "      <td>https://a2.muscache.com/im/users/2572247/profi...</td>\n",
       "      <td>https://a2.muscache.com/im/users/2572247/profi...</td>\n",
       "      <td>Roslindale</td>\n",
       "      <td>1.0</td>\n",
       "      <td>1.0</td>\n",
       "      <td>['email', 'phone', 'facebook', 'linkedin', 'am...</td>\n",
       "      <td>t</td>\n",
       "      <td>t</td>\n",
       "      <td>Pinehurst Street, Boston, MA 02131, United States</td>\n",
       "      <td>Roslindale</td>\n",
       "      <td>Roslindale</td>\n",
       "      <td>NaN</td>\n",
       "      <td>boston</td>\n",
       "      <td>MA</td>\n",
       "      <td>02131</td>\n",
       "      <td>Boston</td>\n",
       "      <td>Boston, MA</td>\n",
       "      <td>US</td>\n",
       "      <td>United States</td>\n",
       "      <td>42.286241</td>\n",
       "      <td>-71.134374</td>\n",
       "      <td>t</td>\n",
       "      <td>Apartment</td>\n",
       "      <td>Private room</td>\n",
       "      <td>2</td>\n",
       "      <td>1.0</td>\n",
       "      <td>1.0</td>\n",
       "      <td>1.0</td>\n",
       "      <td>Real Bed</td>\n",
       "      <td>{TV,Internet,\"Wireless Internet\",\"Air Conditio...</td>\n",
       "      <td>NaN</td>\n",
       "      <td>$65.00</td>\n",
       "      <td>$400.00</td>\n",
       "      <td>NaN</td>\n",
       "      <td>$95.00</td>\n",
       "      <td>$10.00</td>\n",
       "      <td>0</td>\n",
       "      <td>$0.00</td>\n",
       "      <td>2</td>\n",
       "      <td>15</td>\n",
       "      <td>a week ago</td>\n",
       "      <td>NaN</td>\n",
       "      <td>26</td>\n",
       "      <td>54</td>\n",
       "      <td>84</td>\n",
       "      <td>359</td>\n",
       "      <td>2016-09-06</td>\n",
       "      <td>36</td>\n",
       "      <td>2014-06-01</td>\n",
       "      <td>2016-08-13</td>\n",
       "      <td>94.0</td>\n",
       "      <td>10.0</td>\n",
       "      <td>9.0</td>\n",
       "      <td>10.0</td>\n",
       "      <td>10.0</td>\n",
       "      <td>9.0</td>\n",
       "      <td>9.0</td>\n",
       "      <td>f</td>\n",
       "      <td>NaN</td>\n",
       "      <td>NaN</td>\n",
       "      <td>t</td>\n",
       "      <td>moderate</td>\n",
       "      <td>f</td>\n",
       "      <td>f</td>\n",
       "      <td>1</td>\n",
       "      <td>1.30</td>\n",
       "    </tr>\n",
       "    <tr>\n",
       "      <th>2</th>\n",
       "      <td>6976</td>\n",
       "      <td>https://www.airbnb.com/rooms/6976</td>\n",
       "      <td>20160906204935</td>\n",
       "      <td>2016-09-07</td>\n",
       "      <td>Mexican Folk Art Haven in Boston</td>\n",
       "      <td>Come stay with a friendly, middle-aged guy in ...</td>\n",
       "      <td>Come stay with a friendly, middle-aged guy in ...</td>\n",
       "      <td>Come stay with a friendly, middle-aged guy in ...</td>\n",
       "      <td>none</td>\n",
       "      <td>The LOCATION: Roslindale is a safe and diverse...</td>\n",
       "      <td>I am in a scenic part of Boston with a couple ...</td>\n",
       "      <td>PUBLIC TRANSPORTATION: From the house, quick p...</td>\n",
       "      <td>I am living in the apartment during your stay,...</td>\n",
       "      <td>ABOUT ME: I'm a laid-back, friendly, unmarried...</td>\n",
       "      <td>I encourage you to use my kitchen, cooking and...</td>\n",
       "      <td>https://a2.muscache.com/im/pictures/6ae8335d-9...</td>\n",
       "      <td>https://a2.muscache.com/im/pictures/6ae8335d-9...</td>\n",
       "      <td>https://a2.muscache.com/im/pictures/6ae8335d-9...</td>\n",
       "      <td>https://a2.muscache.com/im/pictures/6ae8335d-9...</td>\n",
       "      <td>16701</td>\n",
       "      <td>https://www.airbnb.com/users/show/16701</td>\n",
       "      <td>Phil</td>\n",
       "      <td>2009-05-11</td>\n",
       "      <td>Boston, Massachusetts, United States</td>\n",
       "      <td>I am a middle-aged, single male with a wide ra...</td>\n",
       "      <td>within a few hours</td>\n",
       "      <td>100%</td>\n",
       "      <td>88%</td>\n",
       "      <td>t</td>\n",
       "      <td>https://a2.muscache.com/im/users/16701/profile...</td>\n",
       "      <td>https://a2.muscache.com/im/users/16701/profile...</td>\n",
       "      <td>Roslindale</td>\n",
       "      <td>1.0</td>\n",
       "      <td>1.0</td>\n",
       "      <td>['email', 'phone', 'reviews', 'jumio']</td>\n",
       "      <td>t</td>\n",
       "      <td>t</td>\n",
       "      <td>Ardale St., Boston, MA 02131, United States</td>\n",
       "      <td>Roslindale</td>\n",
       "      <td>Roslindale</td>\n",
       "      <td>NaN</td>\n",
       "      <td>boston</td>\n",
       "      <td>MA</td>\n",
       "      <td>02131</td>\n",
       "      <td>Boston</td>\n",
       "      <td>Boston, MA</td>\n",
       "      <td>US</td>\n",
       "      <td>United States</td>\n",
       "      <td>42.292438</td>\n",
       "      <td>-71.135765</td>\n",
       "      <td>t</td>\n",
       "      <td>Apartment</td>\n",
       "      <td>Private room</td>\n",
       "      <td>2</td>\n",
       "      <td>1.0</td>\n",
       "      <td>1.0</td>\n",
       "      <td>1.0</td>\n",
       "      <td>Real Bed</td>\n",
       "      <td>{TV,\"Cable TV\",\"Wireless Internet\",\"Air Condit...</td>\n",
       "      <td>NaN</td>\n",
       "      <td>$65.00</td>\n",
       "      <td>$395.00</td>\n",
       "      <td>$1,350.00</td>\n",
       "      <td>NaN</td>\n",
       "      <td>NaN</td>\n",
       "      <td>1</td>\n",
       "      <td>$20.00</td>\n",
       "      <td>3</td>\n",
       "      <td>45</td>\n",
       "      <td>5 days ago</td>\n",
       "      <td>NaN</td>\n",
       "      <td>19</td>\n",
       "      <td>46</td>\n",
       "      <td>61</td>\n",
       "      <td>319</td>\n",
       "      <td>2016-09-06</td>\n",
       "      <td>41</td>\n",
       "      <td>2009-07-19</td>\n",
       "      <td>2016-08-05</td>\n",
       "      <td>98.0</td>\n",
       "      <td>10.0</td>\n",
       "      <td>9.0</td>\n",
       "      <td>10.0</td>\n",
       "      <td>10.0</td>\n",
       "      <td>9.0</td>\n",
       "      <td>10.0</td>\n",
       "      <td>f</td>\n",
       "      <td>NaN</td>\n",
       "      <td>NaN</td>\n",
       "      <td>f</td>\n",
       "      <td>moderate</td>\n",
       "      <td>t</td>\n",
       "      <td>f</td>\n",
       "      <td>1</td>\n",
       "      <td>0.47</td>\n",
       "    </tr>\n",
       "  </tbody>\n",
       "</table>\n",
       "</div>"
      ],
      "text/plain": [
       "         id                            listing_url       scrape_id  \\\n",
       "0  12147973  https://www.airbnb.com/rooms/12147973  20160906204935   \n",
       "1   3075044   https://www.airbnb.com/rooms/3075044  20160906204935   \n",
       "2      6976      https://www.airbnb.com/rooms/6976  20160906204935   \n",
       "\n",
       "  last_scraped                               name  \\\n",
       "0   2016-09-07         Sunny Bungalow in the City   \n",
       "1   2016-09-07  Charming room in pet friendly apt   \n",
       "2   2016-09-07   Mexican Folk Art Haven in Boston   \n",
       "\n",
       "                                             summary  \\\n",
       "0  Cozy, sunny, family home.  Master bedroom high...   \n",
       "1  Charming and quiet room in a second floor 1910...   \n",
       "2  Come stay with a friendly, middle-aged guy in ...   \n",
       "\n",
       "                                               space  \\\n",
       "0  The house has an open and cozy feel at the sam...   \n",
       "1  Small but cozy and quite room with a full size...   \n",
       "2  Come stay with a friendly, middle-aged guy in ...   \n",
       "\n",
       "                                         description experiences_offered  \\\n",
       "0  Cozy, sunny, family home.  Master bedroom high...                none   \n",
       "1  Charming and quiet room in a second floor 1910...                none   \n",
       "2  Come stay with a friendly, middle-aged guy in ...                none   \n",
       "\n",
       "                               neighborhood_overview  \\\n",
       "0  Roslindale is quiet, convenient and friendly. ...   \n",
       "1  The room is in Roslindale, a diverse and prima...   \n",
       "2  The LOCATION: Roslindale is a safe and diverse...   \n",
       "\n",
       "                                               notes  \\\n",
       "0                                                NaN   \n",
       "1  If you don't have a US cell phone, you can tex...   \n",
       "2  I am in a scenic part of Boston with a couple ...   \n",
       "\n",
       "                                             transit  \\\n",
       "0  The bus stop is 2 blocks away, and frequent. B...   \n",
       "1  Plenty of safe street parking. Bus stops a few...   \n",
       "2  PUBLIC TRANSPORTATION: From the house, quick p...   \n",
       "\n",
       "                                              access  \\\n",
       "0  You will have access to 2 bedrooms, a living r...   \n",
       "1  Apt has one more bedroom (which I use) and lar...   \n",
       "2  I am living in the apartment during your stay,...   \n",
       "\n",
       "                                         interaction  \\\n",
       "0                                                NaN   \n",
       "1  If I am at home, I am likely working in my hom...   \n",
       "2  ABOUT ME: I'm a laid-back, friendly, unmarried...   \n",
       "\n",
       "                                         house_rules  \\\n",
       "0  Clean up and treat the home the way you'd like...   \n",
       "1  Pet friendly but please confirm with me if the...   \n",
       "2  I encourage you to use my kitchen, cooking and...   \n",
       "\n",
       "                                       thumbnail_url  \\\n",
       "0  https://a2.muscache.com/im/pictures/c0842db1-e...   \n",
       "1  https://a1.muscache.com/im/pictures/39327812/d...   \n",
       "2  https://a2.muscache.com/im/pictures/6ae8335d-9...   \n",
       "\n",
       "                                          medium_url  \\\n",
       "0  https://a2.muscache.com/im/pictures/c0842db1-e...   \n",
       "1  https://a1.muscache.com/im/pictures/39327812/d...   \n",
       "2  https://a2.muscache.com/im/pictures/6ae8335d-9...   \n",
       "\n",
       "                                         picture_url  \\\n",
       "0  https://a2.muscache.com/im/pictures/c0842db1-e...   \n",
       "1  https://a1.muscache.com/im/pictures/39327812/d...   \n",
       "2  https://a2.muscache.com/im/pictures/6ae8335d-9...   \n",
       "\n",
       "                                      xl_picture_url   host_id  \\\n",
       "0  https://a2.muscache.com/im/pictures/c0842db1-e...  31303940   \n",
       "1  https://a1.muscache.com/im/pictures/39327812/d...   2572247   \n",
       "2  https://a2.muscache.com/im/pictures/6ae8335d-9...     16701   \n",
       "\n",
       "                                     host_url host_name  host_since  \\\n",
       "0  https://www.airbnb.com/users/show/31303940  Virginia  2015-04-15   \n",
       "1   https://www.airbnb.com/users/show/2572247    Andrea  2012-06-07   \n",
       "2     https://www.airbnb.com/users/show/16701      Phil  2009-05-11   \n",
       "\n",
       "                          host_location  \\\n",
       "0  Boston, Massachusetts, United States   \n",
       "1  Boston, Massachusetts, United States   \n",
       "2  Boston, Massachusetts, United States   \n",
       "\n",
       "                                          host_about  host_response_time  \\\n",
       "0  We are country and city connecting in our deck...                 NaN   \n",
       "1  I live in Boston and I like to travel and have...      within an hour   \n",
       "2  I am a middle-aged, single male with a wide ra...  within a few hours   \n",
       "\n",
       "  host_response_rate host_acceptance_rate host_is_superhost  \\\n",
       "0                NaN                  NaN                 f   \n",
       "1               100%                 100%                 f   \n",
       "2               100%                  88%                 t   \n",
       "\n",
       "                                  host_thumbnail_url  \\\n",
       "0  https://a2.muscache.com/im/pictures/5936fef0-b...   \n",
       "1  https://a2.muscache.com/im/users/2572247/profi...   \n",
       "2  https://a2.muscache.com/im/users/16701/profile...   \n",
       "\n",
       "                                    host_picture_url host_neighbourhood  \\\n",
       "0  https://a2.muscache.com/im/pictures/5936fef0-b...         Roslindale   \n",
       "1  https://a2.muscache.com/im/users/2572247/profi...         Roslindale   \n",
       "2  https://a2.muscache.com/im/users/16701/profile...         Roslindale   \n",
       "\n",
       "   host_listings_count  host_total_listings_count  \\\n",
       "0                  1.0                        1.0   \n",
       "1                  1.0                        1.0   \n",
       "2                  1.0                        1.0   \n",
       "\n",
       "                                  host_verifications host_has_profile_pic  \\\n",
       "0          ['email', 'phone', 'facebook', 'reviews']                    t   \n",
       "1  ['email', 'phone', 'facebook', 'linkedin', 'am...                    t   \n",
       "2             ['email', 'phone', 'reviews', 'jumio']                    t   \n",
       "\n",
       "  host_identity_verified                                             street  \\\n",
       "0                      f      Birch Street, Boston, MA 02131, United States   \n",
       "1                      t  Pinehurst Street, Boston, MA 02131, United States   \n",
       "2                      t        Ardale St., Boston, MA 02131, United States   \n",
       "\n",
       "  neighbourhood neighbourhood_cleansed neighbourhood_group_cleansed    city  \\\n",
       "0    Roslindale             Roslindale                          NaN  boston   \n",
       "1    Roslindale             Roslindale                          NaN  boston   \n",
       "2    Roslindale             Roslindale                          NaN  boston   \n",
       "\n",
       "  state zipcode  market smart_location country_code        country   latitude  \\\n",
       "0    MA   02131  Boston     Boston, MA           US  United States  42.282619   \n",
       "1    MA   02131  Boston     Boston, MA           US  United States  42.286241   \n",
       "2    MA   02131  Boston     Boston, MA           US  United States  42.292438   \n",
       "\n",
       "   longitude is_location_exact property_type        room_type  accommodates  \\\n",
       "0 -71.133068                 t         House  Entire home/apt             4   \n",
       "1 -71.134374                 t     Apartment     Private room             2   \n",
       "2 -71.135765                 t     Apartment     Private room             2   \n",
       "\n",
       "   bathrooms  bedrooms  beds  bed_type  \\\n",
       "0        1.5       2.0   3.0  Real Bed   \n",
       "1        1.0       1.0   1.0  Real Bed   \n",
       "2        1.0       1.0   1.0  Real Bed   \n",
       "\n",
       "                                           amenities  square_feet    price  \\\n",
       "0  {TV,\"Wireless Internet\",Kitchen,\"Free Parking ...          NaN  $250.00   \n",
       "1  {TV,Internet,\"Wireless Internet\",\"Air Conditio...          NaN   $65.00   \n",
       "2  {TV,\"Cable TV\",\"Wireless Internet\",\"Air Condit...          NaN   $65.00   \n",
       "\n",
       "  weekly_price monthly_price security_deposit cleaning_fee  guests_included  \\\n",
       "0          NaN           NaN              NaN       $35.00                1   \n",
       "1      $400.00           NaN           $95.00       $10.00                0   \n",
       "2      $395.00     $1,350.00              NaN          NaN                1   \n",
       "\n",
       "  extra_people  minimum_nights  maximum_nights calendar_updated  \\\n",
       "0        $0.00               2            1125      2 weeks ago   \n",
       "1        $0.00               2              15       a week ago   \n",
       "2       $20.00               3              45       5 days ago   \n",
       "\n",
       "  has_availability  availability_30  availability_60  availability_90  \\\n",
       "0              NaN                0                0                0   \n",
       "1              NaN               26               54               84   \n",
       "2              NaN               19               46               61   \n",
       "\n",
       "   availability_365 calendar_last_scraped  number_of_reviews first_review  \\\n",
       "0                 0            2016-09-06                  0          NaN   \n",
       "1               359            2016-09-06                 36   2014-06-01   \n",
       "2               319            2016-09-06                 41   2009-07-19   \n",
       "\n",
       "  last_review  review_scores_rating  review_scores_accuracy  \\\n",
       "0         NaN                   NaN                     NaN   \n",
       "1  2016-08-13                  94.0                    10.0   \n",
       "2  2016-08-05                  98.0                    10.0   \n",
       "\n",
       "   review_scores_cleanliness  review_scores_checkin  \\\n",
       "0                        NaN                    NaN   \n",
       "1                        9.0                   10.0   \n",
       "2                        9.0                   10.0   \n",
       "\n",
       "   review_scores_communication  review_scores_location  review_scores_value  \\\n",
       "0                          NaN                     NaN                  NaN   \n",
       "1                         10.0                     9.0                  9.0   \n",
       "2                         10.0                     9.0                 10.0   \n",
       "\n",
       "  requires_license  license jurisdiction_names instant_bookable  \\\n",
       "0                f      NaN                NaN                f   \n",
       "1                f      NaN                NaN                t   \n",
       "2                f      NaN                NaN                f   \n",
       "\n",
       "  cancellation_policy require_guest_profile_picture  \\\n",
       "0            moderate                             f   \n",
       "1            moderate                             f   \n",
       "2            moderate                             t   \n",
       "\n",
       "  require_guest_phone_verification  calculated_host_listings_count  \\\n",
       "0                                f                               1   \n",
       "1                                f                               1   \n",
       "2                                f                               1   \n",
       "\n",
       "   reviews_per_month  \n",
       "0                NaN  \n",
       "1               1.30  \n",
       "2               0.47  "
      ]
     },
     "execution_count": 6,
     "metadata": {},
     "output_type": "execute_result"
    }
   ],
   "source": [
    "pd.set_option('display.max_columns', 100)\n",
    "listings.head(3)\n",
    "\n",
    "# dataset brings lots of columns about the host and about the listing itself"
   ]
  },
  {
   "cell_type": "markdown",
   "metadata": {},
   "source": [
    "#### 2.3. Checking `reviews` dataset:"
   ]
  },
  {
   "cell_type": "code",
   "execution_count": 7,
   "metadata": {},
   "outputs": [
    {
     "data": {
      "text/html": [
       "<div>\n",
       "<style scoped>\n",
       "    .dataframe tbody tr th:only-of-type {\n",
       "        vertical-align: middle;\n",
       "    }\n",
       "\n",
       "    .dataframe tbody tr th {\n",
       "        vertical-align: top;\n",
       "    }\n",
       "\n",
       "    .dataframe thead th {\n",
       "        text-align: right;\n",
       "    }\n",
       "</style>\n",
       "<table border=\"1\" class=\"dataframe\">\n",
       "  <thead>\n",
       "    <tr style=\"text-align: right;\">\n",
       "      <th></th>\n",
       "      <th>listing_id</th>\n",
       "      <th>id</th>\n",
       "      <th>date</th>\n",
       "      <th>reviewer_id</th>\n",
       "      <th>reviewer_name</th>\n",
       "      <th>comments</th>\n",
       "      <th>city</th>\n",
       "    </tr>\n",
       "  </thead>\n",
       "  <tbody>\n",
       "    <tr>\n",
       "      <th>0</th>\n",
       "      <td>1178162</td>\n",
       "      <td>4724140</td>\n",
       "      <td>2013-05-21</td>\n",
       "      <td>4298113</td>\n",
       "      <td>Olivier</td>\n",
       "      <td>My stay at islam's place was really cool! Good...</td>\n",
       "      <td>boston</td>\n",
       "    </tr>\n",
       "    <tr>\n",
       "      <th>1</th>\n",
       "      <td>1178162</td>\n",
       "      <td>4869189</td>\n",
       "      <td>2013-05-29</td>\n",
       "      <td>6452964</td>\n",
       "      <td>Charlotte</td>\n",
       "      <td>Great location for both airport and city - gre...</td>\n",
       "      <td>boston</td>\n",
       "    </tr>\n",
       "    <tr>\n",
       "      <th>2</th>\n",
       "      <td>1178162</td>\n",
       "      <td>5003196</td>\n",
       "      <td>2013-06-06</td>\n",
       "      <td>6449554</td>\n",
       "      <td>Sebastian</td>\n",
       "      <td>We really enjoyed our stay at Islams house. Fr...</td>\n",
       "      <td>boston</td>\n",
       "    </tr>\n",
       "    <tr>\n",
       "      <th>3</th>\n",
       "      <td>1178162</td>\n",
       "      <td>5150351</td>\n",
       "      <td>2013-06-15</td>\n",
       "      <td>2215611</td>\n",
       "      <td>Marine</td>\n",
       "      <td>The room was nice and clean and so were the co...</td>\n",
       "      <td>boston</td>\n",
       "    </tr>\n",
       "    <tr>\n",
       "      <th>4</th>\n",
       "      <td>1178162</td>\n",
       "      <td>5171140</td>\n",
       "      <td>2013-06-16</td>\n",
       "      <td>6848427</td>\n",
       "      <td>Andrew</td>\n",
       "      <td>Great location. Just 5 mins walk from the Airp...</td>\n",
       "      <td>boston</td>\n",
       "    </tr>\n",
       "  </tbody>\n",
       "</table>\n",
       "</div>"
      ],
      "text/plain": [
       "   listing_id       id        date  reviewer_id reviewer_name  \\\n",
       "0     1178162  4724140  2013-05-21      4298113       Olivier   \n",
       "1     1178162  4869189  2013-05-29      6452964     Charlotte   \n",
       "2     1178162  5003196  2013-06-06      6449554     Sebastian   \n",
       "3     1178162  5150351  2013-06-15      2215611        Marine   \n",
       "4     1178162  5171140  2013-06-16      6848427        Andrew   \n",
       "\n",
       "                                            comments    city  \n",
       "0  My stay at islam's place was really cool! Good...  boston  \n",
       "1  Great location for both airport and city - gre...  boston  \n",
       "2  We really enjoyed our stay at Islams house. Fr...  boston  \n",
       "3  The room was nice and clean and so were the co...  boston  \n",
       "4  Great location. Just 5 mins walk from the Airp...  boston  "
      ]
     },
     "execution_count": 7,
     "metadata": {},
     "output_type": "execute_result"
    }
   ],
   "source": [
    "reviews.head()\n",
    "\n",
    "# the dataset presents historical data about users' review for listings, with comments"
   ]
  },
  {
   "cell_type": "markdown",
   "metadata": {},
   "source": [
    "# 3. Wrangling datasets in order to answer posed questions:\n",
    "- 3.1. For similar listings, when considering property_type, room_type, accomodates and eventually other columns, how do prices in Boston and Seattle compare?\n",
    "- 3.2. Do older hosts present higher review scores than newer hosts, on average?\n",
    "- 3.3. For similar listings, when considering property_type, room_type, accomodates and other columns, are superhosts more successful than non superhosts?"
   ]
  },
  {
   "cell_type": "markdown",
   "metadata": {},
   "source": [
    "## 3.1. For similar listings, when considering property_type, room_type, accomodates and other columns, how do prices in Boston and Seattle compare?"
   ]
  },
  {
   "cell_type": "markdown",
   "metadata": {},
   "source": [
    "#### 3.1.1. Checking available values for each of the columns:"
   ]
  },
  {
   "cell_type": "code",
   "execution_count": 8,
   "metadata": {},
   "outputs": [
    {
     "name": "stdout",
     "output_type": "stream",
     "text": [
      "Apartment          4320\n",
      "House              2295\n",
      "Condominium         322\n",
      "Townhouse           172\n",
      "Loft                 79\n",
      "Bed & Breakfast      78\n",
      "Other                39\n",
      "Cabin                21\n",
      "Boat                 20\n",
      "Camper/RV            14\n",
      "Bungalow             13\n",
      "Villa                 6\n",
      "Tent                  5\n",
      "Entire Floor          4\n",
      "Dorm                  4\n",
      "Treehouse             3\n",
      "Chalet                2\n",
      "Yurt                  1\n",
      "Guesthouse            1\n",
      "Name: property_type, dtype: int64\n"
     ]
    }
   ],
   "source": [
    "# property_type:\n",
    "print(listings.property_type.value_counts()) # the vast majority of property_type are Apartment and House"
   ]
  },
  {
   "cell_type": "code",
   "execution_count": 9,
   "metadata": {},
   "outputs": [
    {
     "name": "stdout",
     "output_type": "stream",
     "text": [
      "Entire home/apt    4668\n",
      "Private room       2538\n",
      "Shared room         197\n",
      "Name: room_type, dtype: int64\n"
     ]
    }
   ],
   "source": [
    "# room_type:\n",
    "print(listings.room_type.value_counts()) "
   ]
  },
  {
   "cell_type": "code",
   "execution_count": 10,
   "metadata": {},
   "outputs": [
    {
     "name": "stdout",
     "output_type": "stream",
     "text": [
      "1      695\n",
      "2     3110\n",
      "3      826\n",
      "4     1435\n",
      "5      429\n",
      "6      535\n",
      "7       91\n",
      "8      174\n",
      "9       23\n",
      "10      44\n",
      "11       7\n",
      "12      20\n",
      "14       6\n",
      "15       2\n",
      "16       6\n",
      "Name: accommodates, dtype: int64\n"
     ]
    }
   ],
   "source": [
    "# accommodates:\n",
    "print(listings.accommodates.value_counts().sort_index())"
   ]
  },
  {
   "cell_type": "code",
   "execution_count": 11,
   "metadata": {},
   "outputs": [
    {
     "name": "stdout",
     "output_type": "stream",
     "text": [
      "0.0      21\n",
      "0.5      38\n",
      "1.0    5633\n",
      "1.5     456\n",
      "2.0     851\n",
      "2.5     192\n",
      "3.0      85\n",
      "3.5      70\n",
      "4.0      10\n",
      "4.5       4\n",
      "5.0       7\n",
      "6.0       4\n",
      "8.0       2\n",
      "Name: bathrooms, dtype: int64\n"
     ]
    }
   ],
   "source": [
    "# bathrooms:\n",
    "print(listings.bathrooms.value_counts().sort_index())"
   ]
  },
  {
   "cell_type": "code",
   "execution_count": 12,
   "metadata": {},
   "outputs": [
    {
     "name": "stdout",
     "output_type": "stream",
     "text": [
      "0.0     659\n",
      "1.0    4796\n",
      "2.0    1333\n",
      "3.0     438\n",
      "4.0     114\n",
      "5.0      40\n",
      "6.0       6\n",
      "7.0       1\n",
      "Name: bedrooms, dtype: int64\n"
     ]
    }
   ],
   "source": [
    "# bedrooms:\n",
    "print(listings.bedrooms.value_counts().sort_index())"
   ]
  },
  {
   "cell_type": "code",
   "execution_count": 13,
   "metadata": {},
   "outputs": [
    {
     "name": "stdout",
     "output_type": "stream",
     "text": [
      "0.0        4\n",
      "1.0     4366\n",
      "2.0     1865\n",
      "3.0      708\n",
      "4.0      258\n",
      "5.0      113\n",
      "6.0       37\n",
      "7.0       22\n",
      "8.0       10\n",
      "9.0        6\n",
      "10.0       2\n",
      "15.0       1\n",
      "16.0       1\n",
      "Name: beds, dtype: int64\n"
     ]
    }
   ],
   "source": [
    "# beds:\n",
    "print(listings.beds.value_counts().sort_index())"
   ]
  },
  {
   "cell_type": "code",
   "execution_count": 14,
   "metadata": {},
   "outputs": [
    {
     "name": "stdout",
     "output_type": "stream",
     "text": [
      "Airbed             67\n",
      "Couch              23\n",
      "Futon             125\n",
      "Pull-out Sofa      78\n",
      "Real Bed         7110\n",
      "Name: bed_type, dtype: int64\n"
     ]
    }
   ],
   "source": [
    "# beds:\n",
    "print(listings.bed_type.value_counts().sort_index()) \n",
    "\n",
    "# since the vast majority is 'Real Bed', I won't consider this column for the comparison"
   ]
  },
  {
   "cell_type": "markdown",
   "metadata": {},
   "source": [
    "#### 3.1.2. Treating price columns:\n",
    "- `price`, `weekly_price`, `monthly_price`"
   ]
  },
  {
   "cell_type": "code",
   "execution_count": 15,
   "metadata": {},
   "outputs": [
    {
     "name": "stdout",
     "output_type": "stream",
     "text": [
      "        price weekly_price monthly_price\n",
      "0     $250.00          NaN           NaN\n",
      "1      $65.00      $400.00           NaN\n",
      "2      $65.00      $395.00     $1,350.00\n",
      "3      $75.00          NaN           NaN\n",
      "4      $79.00          NaN           NaN\n",
      "...       ...          ...           ...\n",
      "3813  $359.00          NaN           NaN\n",
      "3814   $79.00          NaN           NaN\n",
      "3815   $93.00      $450.00           NaN\n",
      "3816   $99.00          NaN           NaN\n",
      "3817   $87.00          NaN           NaN\n",
      "\n",
      "[7403 rows x 3 columns]\n"
     ]
    }
   ],
   "source": [
    "# printing in order to check:\n",
    "print(listings[['price', 'weekly_price', 'monthly_price']])\n",
    "\n",
    "# removing $ and , is needed"
   ]
  },
  {
   "cell_type": "code",
   "execution_count": 16,
   "metadata": {},
   "outputs": [],
   "source": [
    "# price:\n",
    "listings.price = listings.price.str.replace(',', '')\n",
    "listings.price = listings.price.str.replace('$', '')\n",
    "listings.price = listings.price.astype(float)\n",
    "\n",
    "# weekly price:\n",
    "listings.weekly_price = listings.weekly_price.str.replace(',', '')\n",
    "listings.weekly_price = listings.weekly_price.str.replace('$', '')\n",
    "listings.weekly_price = listings.weekly_price.astype(float)\n",
    "\n",
    "# monthly price:\n",
    "listings.monthly_price = listings.monthly_price.str.replace(',', '')\n",
    "listings.monthly_price = listings.monthly_price.str.replace('$', '')\n",
    "listings.monthly_price = listings.monthly_price.astype(float)"
   ]
  },
  {
   "cell_type": "code",
   "execution_count": 17,
   "metadata": {},
   "outputs": [
    {
     "name": "stdout",
     "output_type": "stream",
     "text": [
      "      price  weekly_price  monthly_price\n",
      "0     250.0           NaN            NaN\n",
      "1      65.0         400.0            NaN\n",
      "2      65.0         395.0         1350.0\n",
      "3      75.0           NaN            NaN\n",
      "4      79.0           NaN            NaN\n",
      "...     ...           ...            ...\n",
      "3813  359.0           NaN            NaN\n",
      "3814   79.0           NaN            NaN\n",
      "3815   93.0         450.0            NaN\n",
      "3816   99.0           NaN            NaN\n",
      "3817   87.0           NaN            NaN\n",
      "\n",
      "[7403 rows x 3 columns]\n"
     ]
    }
   ],
   "source": [
    "# printing again and checking:\n",
    "print(listings[['price', 'weekly_price', 'monthly_price']])"
   ]
  },
  {
   "cell_type": "markdown",
   "metadata": {},
   "source": [
    "#### 3.1.3. Function which will perform pivot operation and compare price columns between Boston and Seattle:"
   ]
  },
  {
   "cell_type": "code",
   "execution_count": 18,
   "metadata": {},
   "outputs": [],
   "source": [
    "def pivot_price_boston_seattle(df, group_columns, price_column, aggfunc = 'median'):\n",
    "    '''\n",
    "    Summary:\n",
    "    Returns df grouped by group_columns, pivoted by 'city' (for Boston and Seattle), \n",
    "    with aggregated values as aggfunc of price_column. After pivoting, the dataframe's index is reseted, \n",
    "    NAs are dropped, and a column named 'seattle_over_boston' is created by dividing Seattle values by Boston values.\n",
    "    NAs need to dropped after pivoting, for cases where a given set of the group_columns exist for one of the cities,\n",
    "    but not for the other.\n",
    "\n",
    "    Parameters:\n",
    "    df (pandas dataframe): the dataframe one wishes to transform.\n",
    "    group_columns (list): list of column names which need to be grouped before pivoting 'city'.\n",
    "    price_column (string): df's column name whose values will be aggregated by median.\n",
    "    aggfunc (string): aggregate function used to aggregate price_column. The standard aggregation is 'median'.\n",
    "\n",
    "    Returns:\n",
    "    pandas dataframe: df wrangled as described in the function's summary.\n",
    "    '''\n",
    "    df_pivoted = pd.pivot_table(data = df,\n",
    "                                index = group_columns,\n",
    "                                columns = 'city',\n",
    "                                values = price_column,\n",
    "                                aggfunc = aggfunc\n",
    "                               )\\\n",
    "                    .reset_index()\\\n",
    "                    .dropna()\n",
    "    #\n",
    "    df_pivoted['seattle_over_boston'] = df_pivoted['seattle'] / df_pivoted['boston']\n",
    "    #\n",
    "    return df_pivoted"
   ]
  },
  {
   "cell_type": "markdown",
   "metadata": {},
   "source": [
    "#### 3.1.4. Comparing `price` column:"
   ]
  },
  {
   "cell_type": "code",
   "execution_count": 19,
   "metadata": {},
   "outputs": [],
   "source": [
    "# performing analysis for daily price (price column):\n",
    "boston_seattle_price = pivot_price_boston_seattle(df = listings,\n",
    "                                 group_columns = ['property_type', 'room_type', 'accommodates', 'bathrooms', 'bedrooms'],\n",
    "                                 price_column = 'price')"
   ]
  },
  {
   "cell_type": "code",
   "execution_count": 20,
   "metadata": {},
   "outputs": [
    {
     "name": "stdout",
     "output_type": "stream",
     "text": [
      "0.7525\n",
      "0.855156085268077\n"
     ]
    }
   ],
   "source": [
    "# general ratio for price between seattle and boston:\n",
    "print(boston_seattle_price.seattle_over_boston.median())\n",
    "print(boston_seattle_price.seattle_over_boston.mean())\n",
    "\n",
    "# that is, seattle prices are ~75% of boston prices (median of median values), or ~85% (average of median values)\n",
    "# the high difference between median and mean indicates that there are outliers"
   ]
  },
  {
   "cell_type": "code",
   "execution_count": 21,
   "metadata": {},
   "outputs": [],
   "source": [
    "# setting option so it's possible to see all columns side to side:\n",
    "pd.set_option('display.width', 1000)"
   ]
  },
  {
   "cell_type": "code",
   "execution_count": 22,
   "metadata": {},
   "outputs": [
    {
     "name": "stdout",
     "output_type": "stream",
     "text": [
      "city property_type        room_type  accommodates  bathrooms  bedrooms  boston  seattle  seattle_over_boston\n",
      "0        Apartment  Entire home/apt             1        1.0       0.0   120.0     54.0             0.450000\n",
      "1        Apartment  Entire home/apt             1        1.0       1.0   142.0     75.0             0.528169\n",
      "4        Apartment  Entire home/apt             2        1.0       0.0   150.0     98.0             0.653333\n",
      "5        Apartment  Entire home/apt             2        1.0       1.0   179.0    110.0             0.614525\n",
      "6        Apartment  Entire home/apt             2        1.0       2.0   148.0    187.5             1.266892\n",
      "..             ...              ...           ...        ...       ...     ...      ...                  ...\n",
      "534      Townhouse     Private room             2        1.0       1.0    88.0     69.0             0.784091\n",
      "535      Townhouse     Private room             2        1.5       1.0    84.0     70.0             0.833333\n",
      "536      Townhouse     Private room             2        2.0       1.0   119.0     65.0             0.546218\n",
      "539      Townhouse     Private room             4        1.0       1.0    90.0     67.5             0.750000\n",
      "540      Townhouse     Private room             4        1.5       1.0   175.0     49.0             0.280000\n",
      "\n",
      "[193 rows x 8 columns]\n"
     ]
    }
   ],
   "source": [
    "print(boston_seattle_price.sort_values(by = ['property_type', 'room_type', 'accommodates', 'bathrooms', 'bedrooms']))\n",
    "\n",
    "# by checking the paired comparisons between boston and seattle, \n",
    "# there seems at first to be no clear tendency, like - when raising accomodates, the ratio increases... \n",
    "# the values are concentrated around 0.4 - 0.7, and there are some outliers\n",
    "# to check the distribution, the best approach will be to plot a histogram"
   ]
  },
  {
   "cell_type": "code",
   "execution_count": 23,
   "metadata": {},
   "outputs": [
    {
     "data": {
      "text/plain": [
       "<matplotlib.axes._subplots.AxesSubplot at 0x1ac55138f10>"
      ]
     },
     "execution_count": 23,
     "metadata": {},
     "output_type": "execute_result"
    },
    {
     "data": {
      "image/png": "[encoded data removed]",
      "text/plain": [
       "<Figure size 432x288 with 1 Axes>"
      ]
     },
     "metadata": {},
     "output_type": "display_data"
    }
   ],
   "source": [
    "# plotting a histogram in order to check the distribution of the average median ratio between Seattle and Boston's prices,\n",
    "# for similar listings\n",
    "sns.set_style(\"whitegrid\")\n",
    "boston_seattle_price.seattle_over_boston.hist(bins = 50)"
   ]
  },
  {
   "cell_type": "markdown",
   "metadata": {},
   "source": [
    "#### 3.1.5. Comparing `weekly_price` column:"
   ]
  },
  {
   "cell_type": "code",
   "execution_count": 24,
   "metadata": {},
   "outputs": [],
   "source": [
    "# performing analysis for weekly price (weekly_price column):\n",
    "boston_seattle_weekly_price = pivot_price_boston_seattle(df = listings,\n",
    "                                 group_columns = ['property_type', 'room_type', 'accommodates', 'bathrooms', 'bedrooms'],\n",
    "                                 price_column = 'weekly_price')"
   ]
  },
  {
   "cell_type": "code",
   "execution_count": 25,
   "metadata": {},
   "outputs": [
    {
     "name": "stdout",
     "output_type": "stream",
     "text": [
      "0.8101248799231509\n",
      "0.8848080148176217\n"
     ]
    }
   ],
   "source": [
    "# general ratio for weekly_price between seattle and boston:\n",
    "print(boston_seattle_weekly_price.seattle_over_boston.median())\n",
    "print(boston_seattle_weekly_price.seattle_over_boston.mean())\n",
    "\n",
    "# that is, seattle weekly prices are ~81% of boston weekly prices (median of median values), or ~88% (average of median values)"
   ]
  },
  {
   "cell_type": "code",
   "execution_count": 26,
   "metadata": {},
   "outputs": [
    {
     "name": "stdout",
     "output_type": "stream",
     "text": [
      "city\n",
      "boston     6.140351\n",
      "seattle    6.333333\n",
      "Name: weekly_price_increase, dtype: float64\n"
     ]
    }
   ],
   "source": [
    "# in fact, calculating the average increase from price to weekly_price in Boston and Seattle... in Seattle it's higher!\n",
    "listings['weekly_price_increase'] = listings['weekly_price'] / listings['price']\n",
    "\n",
    "# dropping NAs in order to make calculations only for listings where a weekly price is available\n",
    "print(listings.dropna(subset = ['weekly_price_increase'], how = 'any').groupby('city').weekly_price_increase.median())"
   ]
  },
  {
   "cell_type": "markdown",
   "metadata": {},
   "source": [
    "#### 3.1.6. Comparing `monthly_price` column:"
   ]
  },
  {
   "cell_type": "code",
   "execution_count": 27,
   "metadata": {},
   "outputs": [],
   "source": [
    "# performing analysis for monthly price (monthly_price column):\n",
    "boston_seattle_monthly_price = pivot_price_boston_seattle(df = listings,\n",
    "                                 group_columns = ['property_type', 'room_type', 'accommodates', 'bathrooms', 'bedrooms'],\n",
    "                                 price_column = 'monthly_price')"
   ]
  },
  {
   "cell_type": "code",
   "execution_count": 28,
   "metadata": {},
   "outputs": [
    {
     "name": "stdout",
     "output_type": "stream",
     "text": [
      "0.875\n",
      "0.925414531123475\n"
     ]
    }
   ],
   "source": [
    "# general ratio for monthly_price between seattle and boston:\n",
    "print(boston_seattle_monthly_price.seattle_over_boston.median())\n",
    "print(boston_seattle_monthly_price.seattle_over_boston.mean())\n",
    "\n",
    "# that is, seattle prices are ~87% of boston prices (median of median values), or ~92% (average of median values)"
   ]
  },
  {
   "cell_type": "code",
   "execution_count": 29,
   "metadata": {},
   "outputs": [
    {
     "name": "stdout",
     "output_type": "stream",
     "text": [
      "city\n",
      "boston     20.909091\n",
      "seattle    21.428571\n",
      "Name: monthly_price_increase, dtype: float64\n"
     ]
    }
   ],
   "source": [
    "# in fact, calculating the average increase from price to monthly_price in Boston and Seattle... in Seattle it's higher!\n",
    "listings['monthly_price_increase'] = listings['monthly_price'] / listings['price']\n",
    "\n",
    "# dropping NAs in order to make calculations only for listings where a monthly price is available\n",
    "print(listings.dropna(subset = ['monthly_price_increase'], how = 'any').groupby('city').monthly_price_increase.median())"
   ]
  },
  {
   "cell_type": "markdown",
   "metadata": {},
   "source": [
    "#### 3.1.7. Conclusions - price comparison between Boston and Seattle:\n",
    "- in general, Seattle presents lower prices than Boston - there are some outliers, but the ratio values are concentrated around 0.5 to 0.8\n",
    "- however, Seattle hosts increase more the listing's price, proportionally, than Boston hosts - these ratios become higher when weekly prices or monthly prices are compared, and the median prices get closer"
   ]
  },
  {
   "cell_type": "markdown",
   "metadata": {},
   "source": [
    "## 3.2. Do older hosts present higher review scores than newer hosts, on average?"
   ]
  },
  {
   "cell_type": "markdown",
   "metadata": {},
   "source": [
    "#### 3.2.1. Converting `host_since` to dates, and creating auxiliary column to get host 'age' in Airbnb:"
   ]
  },
  {
   "cell_type": "code",
   "execution_count": 30,
   "metadata": {},
   "outputs": [],
   "source": [
    "# converting to datetime:\n",
    "listings.host_since = pd.to_datetime(listings.host_since)"
   ]
  },
  {
   "cell_type": "code",
   "execution_count": 31,
   "metadata": {},
   "outputs": [],
   "source": [
    "# creating auxiliary column which will enable calculation of 'host age':\n",
    "listings['max_date_df'] = listings.host_since.max()"
   ]
  },
  {
   "cell_type": "code",
   "execution_count": 32,
   "metadata": {},
   "outputs": [],
   "source": [
    "# creating 'host_age' column:\n",
    "listings['host_age'] = (listings['max_date_df'] - listings['host_since']).dt.days"
   ]
  },
  {
   "cell_type": "code",
   "execution_count": 33,
   "metadata": {},
   "outputs": [
    {
     "name": "stdout",
     "output_type": "stream",
     "text": [
      "0     510.0\n",
      "1    1552.0\n",
      "2    2675.0\n",
      "3    1234.0\n",
      "4     849.0\n",
      "Name: host_age, dtype: float64\n"
     ]
    }
   ],
   "source": [
    "# taking a look at host_age column:\n",
    "print(listings.host_age.head())"
   ]
  },
  {
   "cell_type": "markdown",
   "metadata": {},
   "source": [
    "#### 3.2.2. Checking if any plots could bring insights into relation between `host_age` and review scores:"
   ]
  },
  {
   "cell_type": "code",
   "execution_count": 34,
   "metadata": {},
   "outputs": [],
   "source": [
    "# bucketing host_age using qcut:\n",
    "listings['host_age_qcut'] = pd.qcut(listings.host_age, 20, labels = range(20))"
   ]
  },
  {
   "cell_type": "code",
   "execution_count": 35,
   "metadata": {},
   "outputs": [
    {
     "name": "stdout",
     "output_type": "stream",
     "text": [
      "                  min     max\n",
      "host_age_qcut                \n",
      "0                 0.0   208.0\n",
      "1               211.0   323.0\n",
      "2               324.0   391.0\n",
      "3               392.0   455.0\n",
      "4               456.0   523.0\n",
      "5               524.0   578.0\n",
      "6               579.0   658.0\n",
      "7               659.0   734.0\n",
      "8               735.0   789.0\n",
      "9               790.0   866.0\n",
      "10              867.0   954.0\n",
      "11              955.0  1058.0\n",
      "12             1059.0  1139.0\n",
      "13             1140.0  1248.0\n",
      "14             1250.0  1367.0\n",
      "15             1369.0  1506.0\n",
      "16             1507.0  1672.0\n",
      "17             1673.0  1867.0\n",
      "18             1868.0  2162.0\n",
      "19             2170.0  2857.0\n"
     ]
    }
   ],
   "source": [
    "# checking intervals for each qcut label:\n",
    "print(listings.groupby('host_age_qcut').host_age.agg({'min', 'max'}))"
   ]
  },
  {
   "cell_type": "code",
   "execution_count": 36,
   "metadata": {},
   "outputs": [
    {
     "data": {
      "text/plain": [
       "<matplotlib.axes._subplots.AxesSubplot at 0x1ac5aebba30>"
      ]
     },
     "execution_count": 36,
     "metadata": {},
     "output_type": "execute_result"
    },
    {
     "data": {
      "image/png": "[encoded data removed]",
      "text/plain": [
       "<Figure size 432x288 with 1 Axes>"
      ]
     },
     "metadata": {},
     "output_type": "display_data"
    }
   ],
   "source": [
    "# plotting review scores and qcut labels:\n",
    "median_review_value_host_age_qcut = listings.groupby('host_age_qcut').review_scores_value.mean()\n",
    "\n",
    "median_review_value_host_age_qcut.plot(kind = 'bar')"
   ]
  },
  {
   "cell_type": "markdown",
   "metadata": {},
   "source": [
    "#### 3.2.3. Conclusion - Host age and reviews:\n",
    "- there is no clear relationship between host_age and average review scores\n",
    "- unfortunately, it was not possible to perform an analysis wheter a given host tends to increase its review score with time, since we only have the average value for review_score"
   ]
  },
  {
   "cell_type": "markdown",
   "metadata": {},
   "source": [
    "## 3.3. For similar listings, when considering property_type, room_type, accomodates and other columns, are superhosts more successful than non superhosts?\n",
    "- what does it mean to be successful in Airbnb?\n",
    "    - maybe being able to charge higher prices, given the same conditions?\n",
    "    - or maybe receiving better reviews, given the same conditions?\n",
    "- as we'll be comparing 'similar conditions', codes from section 3.1 may be reused - actually, the same grouping columns will be kept\n",
    "- a very similar function as the one from 3.1.3 may be coded, pivoting the `host_is_superhost` column, instead of `city`"
   ]
  },
  {
   "cell_type": "markdown",
   "metadata": {},
   "source": [
    "#### 3.3.1. Checking columns which will be used and were not verified yet in this notebook:"
   ]
  },
  {
   "cell_type": "code",
   "execution_count": 37,
   "metadata": {},
   "outputs": [
    {
     "data": {
      "text/plain": [
       "f    6216\n",
       "t    1185\n",
       "Name: host_is_superhost, dtype: int64"
      ]
     },
     "execution_count": 37,
     "metadata": {},
     "output_type": "execute_result"
    }
   ],
   "source": [
    "# checking the `host_is_superhost` column:\n",
    "listings.host_is_superhost.value_counts()"
   ]
  },
  {
   "cell_type": "markdown",
   "metadata": {},
   "source": [
    "#### 3.3.2. Function which will perform pivot operation and compare prices and reviews between superhost and non superhosts:\n",
    "- code is very similar to the function in 3.1.3: `pivot_price_boston_seattle` - the following function is more generic and would serve more purposes than the one defined in 3.1.3."
   ]
  },
  {
   "cell_type": "code",
   "execution_count": 38,
   "metadata": {},
   "outputs": [],
   "source": [
    "def df_group_pivot(df, group_columns, pivot_column, value_column, aggfunc = 'median'):\n",
    "    '''\n",
    "    Summary:\n",
    "    Returns df grouped by group_columns, pivoted by pivot_column, with aggregated values as\n",
    "    aggfunc of value_column. After pivoting, the dataframe's index is reseted and NAs are dropped.\n",
    "    NAs need to dropped after pivoting, for cases where a given set of the group_columns do not exist for all\n",
    "    possible values from pivot_column.\n",
    "\n",
    "    Parameters:\n",
    "    df (pandas dataframe): the dataframe one wishes to transform.\n",
    "    group_columns (list): list of column names which need to be grouped before pivoting.\n",
    "    pivot_column (string): df's column name which will be pivoted using pandas.pivot_table.\n",
    "    value_column (string): df's column name whose values will be aggregated by aggfunc.\n",
    "    aggfunc (string): aggregate function used to aggregate value_column. The standard aggregation is 'median'.\n",
    "\n",
    "    Returns:\n",
    "    pandas dataframe: df wrangled as described in the function's summary.\n",
    "    '''\n",
    "    df_pivoted = pd.pivot_table(data = df,\n",
    "                                index = group_columns,\n",
    "                                columns = pivot_column,\n",
    "                                values = value_column,\n",
    "                                aggfunc = aggfunc\n",
    "                               )\\\n",
    "                    .reset_index()\\\n",
    "                    .dropna()\n",
    "    #\n",
    "    return df_pivoted"
   ]
  },
  {
   "cell_type": "markdown",
   "metadata": {},
   "source": [
    "#### 3.3.3. Comparing `price` column between superhost and non superhosts:"
   ]
  },
  {
   "cell_type": "code",
   "execution_count": 39,
   "metadata": {},
   "outputs": [],
   "source": [
    "superhost_price = df_group_pivot(df = listings,\n",
    "                                 group_columns = ['property_type', 'room_type', 'accommodates', 'bathrooms', 'bedrooms'],\n",
    "                                 pivot_column = 'host_is_superhost',\n",
    "                                 value_column = 'price')\n",
    "# \n",
    "superhost_price['superhost_over_nonsuper'] = superhost_price['t'] / superhost_price['f']"
   ]
  },
  {
   "cell_type": "code",
   "execution_count": 40,
   "metadata": {},
   "outputs": [
    {
     "data": {
      "text/html": [
       "<div>\n",
       "<style scoped>\n",
       "    .dataframe tbody tr th:only-of-type {\n",
       "        vertical-align: middle;\n",
       "    }\n",
       "\n",
       "    .dataframe tbody tr th {\n",
       "        vertical-align: top;\n",
       "    }\n",
       "\n",
       "    .dataframe thead th {\n",
       "        text-align: right;\n",
       "    }\n",
       "</style>\n",
       "<table border=\"1\" class=\"dataframe\">\n",
       "  <thead>\n",
       "    <tr style=\"text-align: right;\">\n",
       "      <th>host_is_superhost</th>\n",
       "      <th>property_type</th>\n",
       "      <th>room_type</th>\n",
       "      <th>accommodates</th>\n",
       "      <th>bathrooms</th>\n",
       "      <th>bedrooms</th>\n",
       "      <th>f</th>\n",
       "      <th>t</th>\n",
       "      <th>superhost_over_nonsuper</th>\n",
       "    </tr>\n",
       "  </thead>\n",
       "  <tbody>\n",
       "    <tr>\n",
       "      <th>4</th>\n",
       "      <td>Apartment</td>\n",
       "      <td>Entire home/apt</td>\n",
       "      <td>2</td>\n",
       "      <td>1.0</td>\n",
       "      <td>0.0</td>\n",
       "      <td>120.0</td>\n",
       "      <td>105.0</td>\n",
       "      <td>0.875000</td>\n",
       "    </tr>\n",
       "    <tr>\n",
       "      <th>5</th>\n",
       "      <td>Apartment</td>\n",
       "      <td>Entire home/apt</td>\n",
       "      <td>2</td>\n",
       "      <td>1.0</td>\n",
       "      <td>1.0</td>\n",
       "      <td>139.0</td>\n",
       "      <td>128.0</td>\n",
       "      <td>0.920863</td>\n",
       "    </tr>\n",
       "    <tr>\n",
       "      <th>6</th>\n",
       "      <td>Apartment</td>\n",
       "      <td>Entire home/apt</td>\n",
       "      <td>2</td>\n",
       "      <td>1.0</td>\n",
       "      <td>2.0</td>\n",
       "      <td>187.5</td>\n",
       "      <td>106.5</td>\n",
       "      <td>0.568000</td>\n",
       "    </tr>\n",
       "  </tbody>\n",
       "</table>\n",
       "</div>"
      ],
      "text/plain": [
       "host_is_superhost property_type        room_type  accommodates  bathrooms  bedrooms      f      t  superhost_over_nonsuper\n",
       "4                     Apartment  Entire home/apt             2        1.0       0.0  120.0  105.0                 0.875000\n",
       "5                     Apartment  Entire home/apt             2        1.0       1.0  139.0  128.0                 0.920863\n",
       "6                     Apartment  Entire home/apt             2        1.0       2.0  187.5  106.5                 0.568000"
      ]
     },
     "execution_count": 40,
     "metadata": {},
     "output_type": "execute_result"
    }
   ],
   "source": [
    "superhost_price.head(3)"
   ]
  },
  {
   "cell_type": "code",
   "execution_count": 41,
   "metadata": {},
   "outputs": [
    {
     "name": "stdout",
     "output_type": "stream",
     "text": [
      "1.0154241645244215\n",
      "1.117736159837437\n"
     ]
    }
   ],
   "source": [
    "# general ratio for price between superhosts and non superhosts:\n",
    "print(superhost_price.superhost_over_nonsuper.median())\n",
    "print(superhost_price.superhost_over_nonsuper.mean())\n",
    "\n",
    "# that is, superhost prices are ~102% of non superhost prices (median of median values), or ~112% (average of median values)\n",
    "# the high difference between median and mean indicates that there are outliers"
   ]
  },
  {
   "cell_type": "code",
   "execution_count": 42,
   "metadata": {},
   "outputs": [
    {
     "data": {
      "text/plain": [
       "<matplotlib.axes._subplots.AxesSubplot at 0x1ac65e195e0>"
      ]
     },
     "execution_count": 42,
     "metadata": {},
     "output_type": "execute_result"
    },
    {
     "data": {
      "image/png": "[encoded data removed]",
      "text/plain": [
       "<Figure size 432x288 with 1 Axes>"
      ]
     },
     "metadata": {},
     "output_type": "display_data"
    }
   ],
   "source": [
    "# plotting histogram in order to check ratio's distribution:\n",
    "sns.set_style(\"whitegrid\")\n",
    "superhost_price.superhost_over_nonsuper.hist(bins = 50)\n",
    "\n",
    "# the distribution actually seems to be concentrated around 1.0, with some outliers to the right, which results\n",
    "# in a higher value for the average, when compared to the median"
   ]
  },
  {
   "cell_type": "markdown",
   "metadata": {},
   "source": [
    "#### 3.3.4. Comparing `review_scores_value` column between superhost and non superhosts:"
   ]
  },
  {
   "cell_type": "code",
   "execution_count": 43,
   "metadata": {},
   "outputs": [],
   "source": [
    "superhost_review = df_group_pivot(df = listings,\n",
    "                                 group_columns = ['property_type', 'room_type', 'accommodates', 'bathrooms', 'bedrooms'],\n",
    "                                 pivot_column = 'host_is_superhost',\n",
    "                                 value_column = 'review_scores_value')\n",
    "\n",
    "superhost_review['superhost_over_nonsuper'] = superhost_review['t'] / superhost_review['f']"
   ]
  },
  {
   "cell_type": "code",
   "execution_count": 44,
   "metadata": {},
   "outputs": [
    {
     "data": {
      "text/html": [
       "<div>\n",
       "<style scoped>\n",
       "    .dataframe tbody tr th:only-of-type {\n",
       "        vertical-align: middle;\n",
       "    }\n",
       "\n",
       "    .dataframe tbody tr th {\n",
       "        vertical-align: top;\n",
       "    }\n",
       "\n",
       "    .dataframe thead th {\n",
       "        text-align: right;\n",
       "    }\n",
       "</style>\n",
       "<table border=\"1\" class=\"dataframe\">\n",
       "  <thead>\n",
       "    <tr style=\"text-align: right;\">\n",
       "      <th>host_is_superhost</th>\n",
       "      <th>property_type</th>\n",
       "      <th>room_type</th>\n",
       "      <th>accommodates</th>\n",
       "      <th>bathrooms</th>\n",
       "      <th>bedrooms</th>\n",
       "      <th>f</th>\n",
       "      <th>t</th>\n",
       "      <th>superhost_over_nonsuper</th>\n",
       "    </tr>\n",
       "  </thead>\n",
       "  <tbody>\n",
       "    <tr>\n",
       "      <th>2</th>\n",
       "      <td>Apartment</td>\n",
       "      <td>Entire home/apt</td>\n",
       "      <td>2</td>\n",
       "      <td>1.0</td>\n",
       "      <td>0.0</td>\n",
       "      <td>9.0</td>\n",
       "      <td>10.0</td>\n",
       "      <td>1.111111</td>\n",
       "    </tr>\n",
       "    <tr>\n",
       "      <th>3</th>\n",
       "      <td>Apartment</td>\n",
       "      <td>Entire home/apt</td>\n",
       "      <td>2</td>\n",
       "      <td>1.0</td>\n",
       "      <td>1.0</td>\n",
       "      <td>9.0</td>\n",
       "      <td>10.0</td>\n",
       "      <td>1.111111</td>\n",
       "    </tr>\n",
       "    <tr>\n",
       "      <th>4</th>\n",
       "      <td>Apartment</td>\n",
       "      <td>Entire home/apt</td>\n",
       "      <td>2</td>\n",
       "      <td>1.0</td>\n",
       "      <td>2.0</td>\n",
       "      <td>9.0</td>\n",
       "      <td>10.0</td>\n",
       "      <td>1.111111</td>\n",
       "    </tr>\n",
       "  </tbody>\n",
       "</table>\n",
       "</div>"
      ],
      "text/plain": [
       "host_is_superhost property_type        room_type  accommodates  bathrooms  bedrooms    f     t  superhost_over_nonsuper\n",
       "2                     Apartment  Entire home/apt             2        1.0       0.0  9.0  10.0                 1.111111\n",
       "3                     Apartment  Entire home/apt             2        1.0       1.0  9.0  10.0                 1.111111\n",
       "4                     Apartment  Entire home/apt             2        1.0       2.0  9.0  10.0                 1.111111"
      ]
     },
     "execution_count": 44,
     "metadata": {},
     "output_type": "execute_result"
    }
   ],
   "source": [
    "superhost_review.head(3)"
   ]
  },
  {
   "cell_type": "code",
   "execution_count": 45,
   "metadata": {},
   "outputs": [
    {
     "name": "stdout",
     "output_type": "stream",
     "text": [
      "1.0526315789473684\n",
      "1.0525937376750079\n"
     ]
    }
   ],
   "source": [
    "# general ratio for review scores between superhosts and non superhosts:\n",
    "print(superhost_review.superhost_over_nonsuper.median())\n",
    "print(superhost_review.superhost_over_nonsuper.mean())\n",
    "\n",
    "# that is, superhost review scores are ~105% of non superhosts' (median of median values or mean of median values)\n",
    "# the similarity between median and mean indicates that there aren't many outliers, probably because scores are a set of discrete values - 9.0 and 10., for example"
   ]
  },
  {
   "cell_type": "code",
   "execution_count": 46,
   "metadata": {},
   "outputs": [
    {
     "data": {
      "text/plain": [
       "<matplotlib.axes._subplots.AxesSubplot at 0x1ac65eefac0>"
      ]
     },
     "execution_count": 46,
     "metadata": {},
     "output_type": "execute_result"
    },
    {
     "data": {
      "image/png": "[encoded data removed]",
      "text/plain": [
       "<Figure size 432x288 with 1 Axes>"
      ]
     },
     "metadata": {},
     "output_type": "display_data"
    }
   ],
   "source": [
    "# plotting histogram:\n",
    "sns.set_style(\"whitegrid\")\n",
    "superhost_review.superhost_over_nonsuper.hist(bins = 10)\n",
    "\n",
    "# the distribution is concentrated around 0.9 ~ 1.1, with more values to the right, besides some outliers outliers greater than 1.0"
   ]
  },
  {
   "cell_type": "markdown",
   "metadata": {},
   "source": [
    "#### 3.3.5. Conclusion - Superhost and its relation to price and review scores:\n",
    "- superhosts practice slighly higher prices, on average (considering both Boston and Seattle). These higher prices, however, are due mostly to some outliers, that is, it seems that people who practice really high prices are, in general, superhosts.\n",
    "- superhosts have slightly higher review scores - the distribution of the ratios between scores (superhost over non-superhost) is concetrated around 0.9 ~ 1.0, with median and average values equal to ~1.05."
   ]
  }
 ],
 "metadata": {
  "kernelspec": {
   "display_name": "Python 3",
   "language": "python",
   "name": "python3"
  },
  "language_info": {
   "codemirror_mode": {
    "name": "ipython",
    "version": 3
   },
   "file_extension": ".py",
   "mimetype": "text/x-python",
   "name": "python",
   "nbconvert_exporter": "python",
   "pygments_lexer": "ipython3",
   "version": "3.8.3"
  }
 },
 "nbformat": 4,
 "nbformat_minor": 4
}
